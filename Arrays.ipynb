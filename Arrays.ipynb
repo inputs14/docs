{
 "cells": [
  {
   "cell_type": "markdown",
   "metadata": {},
   "source": [
    "# Arrays\n",
    "\n",
    "* Collection of items in same data type.\n",
    "* Continuous Memory Allocation.\n",
    "* Quicker to Access - `Address at index i = startAddress + i x (Size of the single Element)`\n",
    "* Memory is allocated during compile-time.\n",
    "* Index always starts from `0`.\n",
    "* Disadvantages \n",
    "                - Takes time to insert or delete in middle or front.\n",
    "                - Possible stack overflow if the size of the array is larger.\n",
    "### Referential Arrays\n",
    "* An Array having **Object References** as elements.\n",
    "```Each Element is a reference to an Object```\n",
    "* Python follows this while implementing list."
   ]
  },
  {
   "cell_type": "markdown",
   "metadata": {},
   "source": [
    "## Dynamic Arrays\n",
    "* No specifications on size of an array as it is expandable.\n",
    "* By the principle of Encapsulation, the internal implementation of the dynamic array is not necessarily known by the user.\n",
    "* Allocated on heap during run time so that it wont cause stack overflow."
   ]
  },
  {
   "cell_type": "code",
   "execution_count": 1,
   "metadata": {
    "ExecuteTime": {
     "end_time": "2020-04-18T10:10:07.634264Z",
     "start_time": "2020-04-18T10:10:07.626247Z"
    }
   },
   "outputs": [
    {
     "name": "stdout",
     "output_type": "stream",
     "text": [
      "Length: 0; Size in bytes: 64\n",
      "Length: 1; Size in bytes: 96\n",
      "Length: 2; Size in bytes: 96\n",
      "Length: 3; Size in bytes: 96\n",
      "Length: 4; Size in bytes: 96\n",
      "Length: 5; Size in bytes: 128\n",
      "Length: 6; Size in bytes: 128\n",
      "Length: 7; Size in bytes: 128\n",
      "Length: 8; Size in bytes: 128\n",
      "Length: 9; Size in bytes: 192\n",
      "Length: 10; Size in bytes: 192\n",
      "Length: 11; Size in bytes: 192\n",
      "Length: 12; Size in bytes: 192\n",
      "Length: 13; Size in bytes: 192\n",
      "Length: 14; Size in bytes: 192\n",
      "Length: 15; Size in bytes: 192\n",
      "Length: 16; Size in bytes: 192\n",
      "Length: 17; Size in bytes: 264\n",
      "Length: 18; Size in bytes: 264\n",
      "Length: 19; Size in bytes: 264\n",
      "Length: 20; Size in bytes: 264\n",
      "Length: 21; Size in bytes: 264\n",
      "Length: 22; Size in bytes: 264\n",
      "Length: 23; Size in bytes: 264\n",
      "Length: 24; Size in bytes: 264\n",
      "Length: 25; Size in bytes: 264\n",
      "Length: 26; Size in bytes: 344\n",
      "Length: 27; Size in bytes: 344\n",
      "Length: 28; Size in bytes: 344\n",
      "Length: 29; Size in bytes: 344\n"
     ]
    }
   ],
   "source": [
    "# Python List follows the dynamic arrays Implementation\n",
    "import sys\n",
    "\n",
    "n = 30\n",
    "\n",
    "data = []\n",
    "for i in range(n):\n",
    "    size = len(data)\n",
    "    actual_size = sys.getsizeof(data)\n",
    "    print(\"Length: {}; Size in bytes: {}\".format(size, actual_size))\n",
    "    # Size in bytes dynamically increases based on the number of elements happens to fill the space.\n",
    "    data.append(n)"
   ]
  },
  {
   "cell_type": "markdown",
   "metadata": {},
   "source": [
    "### Dynamic Array Implementation "
   ]
  },
  {
   "cell_type": "code",
   "execution_count": 2,
   "metadata": {
    "ExecuteTime": {
     "end_time": "2020-04-18T10:10:07.660331Z",
     "start_time": "2020-04-18T10:10:07.636488Z"
    }
   },
   "outputs": [],
   "source": [
    "import ctypes\n",
    "\n",
    "class DynamicArray: # To create dynamic array\n",
    "    def __init__(self):\n",
    "        self.size = 1\n",
    "        self.count = 0\n",
    "        self.array = self.makeArray(self.size)\n",
    "    \n",
    "    def __len__(self): # To get length of the array.\n",
    "        # O(1)\n",
    "        return self.count\n",
    "    \n",
    "    def __getitem__(self, index): # To get item at index.\n",
    "        # O(1)\n",
    "        if not 0 <= index < self.count:\n",
    "            return IndexError(\"Out of Index\")\n",
    "        \n",
    "        return self.array[index]\n",
    " \n",
    "    def append(self, ele): # To add new ele in an array\n",
    "        # O(n) - Worst Case; O(1) - Best case due to Amortization.\n",
    "        if self.count == self.size:\n",
    "            self._resize(2*self.size) # 2x size of the array\n",
    "        self.array[self.count] = ele\n",
    "        self.count = self.count + 1\n",
    "        \n",
    "    def pop(self):\n",
    "        # To remove from end, return value\n",
    "        # O(1)\n",
    "        if self.count == 0:\n",
    "            return None\n",
    "        last_val = self.array[self.count - 1]\n",
    "        self.count = self.count - 1\n",
    "        return last_val\n",
    "    \n",
    "    def delete(self, idx):\n",
    "        # To remove from index idx and shifting all trailing elements left, return value\n",
    "        # O(n)\n",
    "        if self.count < idx:\n",
    "            return None\n",
    "        last_val = self.array[idx]\n",
    "        for i in range(idx, self.count - 1):\n",
    "            self.array[i] = self.array[i+1]\n",
    "        self.count = self.count - 1\n",
    "   \n",
    "    def _resize(self, new_size):\n",
    "        # Resizing the size of the Array to twice its original.\n",
    "        # O(n)\n",
    "        array = self.makeArray(new_size)\n",
    "        index = 0\n",
    "        for i in range(self.count):\n",
    "            array[i] = self.array[i]\n",
    "        self.array = array\n",
    "        self.size = new_size\n",
    "            \n",
    "    def makeArray(self, capacity):\n",
    "        # O(1)\n",
    "        return (capacity * ctypes.py_object)()"
   ]
  },
  {
   "cell_type": "code",
   "execution_count": 3,
   "metadata": {
    "ExecuteTime": {
     "end_time": "2020-04-18T10:10:07.668676Z",
     "start_time": "2020-04-18T10:10:07.663103Z"
    }
   },
   "outputs": [
    {
     "name": "stdout",
     "output_type": "stream",
     "text": [
      "Length =  1\n",
      "Length =  2\n",
      "Element at index 1 =  2\n",
      "Element popped out -  3\n"
     ]
    }
   ],
   "source": [
    "# Checking the newly created DynamicArray class\n",
    "arr = DynamicArray()\n",
    "arr.append(1)\n",
    "print(\"Length = \",len(arr))\n",
    "arr.append(2)\n",
    "print(\"Length = \",len(arr))\n",
    "arr.append(3)\n",
    "print(\"Element at index 1 = \",arr[1])\n",
    "print(\"Element popped out - \",arr.pop())\n"
   ]
  },
  {
   "cell_type": "markdown",
   "metadata": {},
   "source": [
    "### Amortized Analysis: [Reference](http://www.cs.cmu.edu/afs/cs/academic/class/15451-s10/www/lectures/lect0203.pdf)\n",
    "* Amortization - Algorithmic Design Pattern.\n",
    "* Extending the array is a heavy operation since it is creating a new array and copying all the elements from old array to new array will takes more time.\n",
    " - One resizing of the array takes: \n",
    "                   => Creating a new Array - O(1)\n",
    "                   => Copying all elements of old array to new array - O(n)\n",
    "                   => Appending new element to the last - O(1)\n",
    "    **Overall = O(n)**\n",
    "                \n",
    "                \n",
    "* Extending array can be done in two ways - Arithmetic Progression and Geometric Progression."
   ]
  },
  {
   "cell_type": "markdown",
   "metadata": {},
   "source": [
    "### Arithmetic Progression\n",
    "* To save space, during overflow resizing the array by a constant size.\n",
    "* Increasing the size ``n`` by ``n + k`` where **k** is a fixed size.\n",
    "* But overall performance is worse.\n",
    "<pre>At Worst case, when k = 1, resizing happens at n = 1, 2, 3, 4,....\n",
    "    Items No  : 1 2 3 4 5 6 7 8 9 10 ...\n",
    "    Table Size: 1 2 3 4 5 6 7 8 9 10 ...\n",
    "    Cost      : 1 2 3 4 5 6 7 8 9 10 ...\n",
    "    \n",
    "        Amortized Cost = (1+2+3+4+5+6+7+8+9+10+ ... upto n) / n\n",
    "                       => [n* (n+1)]/2\n",
    "                       => n²\n",
    "                       => O(n²)\n",
    "                       </pre>"
   ]
  }
 ],
 "metadata": {
  "kernelspec": {
   "display_name": "Python 3",
   "language": "python",
   "name": "python3"
  },
  "language_info": {
   "codemirror_mode": {
    "name": "ipython",
    "version": 3
   },
   "file_extension": ".py",
   "mimetype": "text/x-python",
   "name": "python",
   "nbconvert_exporter": "python",
   "pygments_lexer": "ipython3",
   "version": "3.8.2"
  },
  "varInspector": {
   "cols": {
    "lenName": 16,
    "lenType": 16,
    "lenVar": 40
   },
   "kernels_config": {
    "python": {
     "delete_cmd_postfix": "",
     "delete_cmd_prefix": "del ",
     "library": "var_list.py",
     "varRefreshCmd": "print(var_dic_list())"
    },
    "r": {
     "delete_cmd_postfix": ") ",
     "delete_cmd_prefix": "rm(",
     "library": "var_list.r",
     "varRefreshCmd": "cat(var_dic_list()) "
    }
   },
   "types_to_exclude": [
    "module",
    "function",
    "builtin_function_or_method",
    "instance",
    "_Feature"
   ],
   "window_display": false
  }
 },
 "nbformat": 4,
 "nbformat_minor": 2
}
