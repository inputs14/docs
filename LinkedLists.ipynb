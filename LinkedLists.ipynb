{
 "cells": [
  {
   "cell_type": "markdown",
   "metadata": {},
   "source": [
    "# Linked Lists\n",
    " - A recursive data type.\n",
    " - Made up of Nodes.\n",
    " - A Node has two components: 1) An item and 2) the reference to next node of the list.\n",
    " - Memory is allocated during run-time.\n",
    " - Advantages:\n",
    "             - Insertion/Deletion at middle has less cost than array implementation.\n",
    "             - Easier to resize and no involving any cost like array resizing dynamically.\n",
    "             - Efficient memory utilization(No unwanted pre-allocated memory that may not be used).\n",
    " - Disadvantages:\n",
    "             - Consumes more space as each node needs to have additional pointers to point next/previous nodes.\n",
    "             - Searching is difficult.\n",
    "             - Reverse traversing is difficult in Singly Linked List."
   ]
  },
  {
   "cell_type": "markdown",
   "metadata": {},
   "source": [
    "## Types\n",
    "        - Singly Linked List => One way \n",
    "        - Doubly Linked List => Two way\n",
    "        - Multiply Linked List => Multi-dimensional\n",
    "        - Circular Linked List => Last node points to Head node\n",
    "        - Sentinel Node => Dummy node added at first or last to make end point markers."
   ]
  },
  {
   "cell_type": "markdown",
   "metadata": {},
   "source": [
    "## Applications\n",
    " - Polynomial Algebra\n",
    " - Sparse Matrix\n",
    " - Hash table(During Collision resolution)\n",
    " - To implement Stacks, Queues, Trees and Graphs.\n",
    " - Implementing symbol table in complier construction."
   ]
  },
  {
   "cell_type": "markdown",
   "metadata": {},
   "source": [
    "## Singly Linked Lists Implementation"
   ]
  },
  {
   "cell_type": "code",
   "execution_count": 1,
   "metadata": {
    "ExecuteTime": {
     "end_time": "2020-04-24T19:44:56.410911Z",
     "start_time": "2020-04-24T19:44:56.400503Z"
    }
   },
   "outputs": [],
   "source": [
    "# Node implementation\n",
    "class ListNode:\n",
    "    def __init__(self, value):\n",
    "        self.item = value\n",
    "        self.next = None"
   ]
  },
  {
   "cell_type": "code",
   "execution_count": 2,
   "metadata": {
    "ExecuteTime": {
     "end_time": "2020-04-24T19:44:56.487663Z",
     "start_time": "2020-04-24T19:44:56.416688Z"
    }
   },
   "outputs": [],
   "source": [
    "# LinkedList implementation\n",
    "class LinkedList:\n",
    "    def __init__(self):\n",
    "        self.head = None\n",
    "        self._iterator = None\n",
    "        \n",
    "    def printList(self):\n",
    "        # Print all the elements of the list - O(n)\n",
    "        \n",
    "        node = self.head\n",
    "        print(\"LinkedList Elements are\", end=\" \")\n",
    "        \n",
    "        while node is not None:\n",
    "            print(node.item, end=\" \")\n",
    "            node = node.next\n",
    "        print(\" \")\n",
    "        \n",
    "    # Insertion\n",
    "    \n",
    "    def insert(self, node):\n",
    "        # Insert at the last - O(n)\n",
    "        \n",
    "        if self.head is None:\n",
    "            self.head = node\n",
    "        else:\n",
    "            ele = self.head\n",
    "            while ele.next is not None:\n",
    "                ele = ele.next\n",
    "            ele.next = node\n",
    "                    \n",
    "    def insertFront(self, node):\n",
    "        # Insert at the front of the list - O(1)\n",
    "        if self.head is None:\n",
    "            self.head = node\n",
    "        else:\n",
    "            front = self.head\n",
    "            self.head = node\n",
    "            node.next = front\n",
    "    \n",
    "    def insertAfter(self, value, node):\n",
    "        # Insert after certain 'node' in the list - O(n)\n",
    "        if self.head is None:\n",
    "            self.head = node\n",
    "        else:\n",
    "            ele = self.head\n",
    "            found = False\n",
    "            while ele.next is not None:\n",
    "                if ele.item == value:\n",
    "                    node.next = ele.next\n",
    "                    ele.next = node\n",
    "                    found = True\n",
    "                ele = ele.next\n",
    "            \n",
    "            if found == False:\n",
    "                ele.next = node\n",
    "                \n",
    "    def insertBefore(self, value, node):\n",
    "        # Insert before certain 'node' in the list - O(n)\n",
    "        if self.head is None:\n",
    "            self.head = node\n",
    "        else:\n",
    "            if self.head.item == value:\n",
    "                node.next = self.head\n",
    "                self.head = node\n",
    "            else:\n",
    "                ele = self.head\n",
    "                found = False\n",
    "                while ele.next is not None:\n",
    "                    if ele.next.item == value:\n",
    "                        node.next = ele.next\n",
    "                        ele.next = node\n",
    "                        found = True\n",
    "                        break\n",
    "                    ele = ele.next\n",
    "                    \n",
    "                if found == False:\n",
    "                    ele.next = node\n",
    "                    \n",
    "    # Deletion\n",
    "                    \n",
    "    def remove(self, value):\n",
    "        # Remove element from the list - O(n)\n",
    "        if self.head is None:\n",
    "            return None\n",
    "        \n",
    "        if self.head.item == value:\n",
    "            node = self.head\n",
    "            self.head = node.next\n",
    "            return None\n",
    "        \n",
    "        ele = self.head\n",
    "        while ele.next is not None:\n",
    "            if ele.next.item == value:\n",
    "                ele.next = ele.next.next\n",
    "                return None\n",
    "            ele = ele.next\n",
    "                            \n",
    "    # Iteration\n",
    "    \n",
    "    def next(self):\n",
    "        # Iterator that returns the next element in the list - O(1)\n",
    "        if self._iterator is None:\n",
    "            if self.head is None:\n",
    "                return None\n",
    "            else:\n",
    "                self._iterator = self.head\n",
    "        \n",
    "        returnVal = self._iterator.item\n",
    "        if self.hasNext():\n",
    "            self._iterator = self._iterator.next\n",
    "        else:\n",
    "            print(\"No more iterations left. Returning last value\")\n",
    "            return returnVal\n",
    "        \n",
    "        return returnVal\n",
    "    \n",
    "    def hasNext(self):\n",
    "        # Check for next variable exists - O(1)\n",
    "        if self._iterator.next is None:\n",
    "            return False\n",
    "        \n",
    "        return True\n",
    "    \n",
    "    def getLength(self):\n",
    "        length = 0\n",
    "        \n",
    "        if self.head is None:\n",
    "            return length\n",
    "        \n",
    "        ele = self.head\n",
    "        while ele is not None:\n",
    "            ele = ele.next\n",
    "            length += 1\n",
    "            \n",
    "        return length\n",
    "    \n",
    "    def getKthElementFromEnd(self, k, lengthKnown):\n",
    "        # Time Complexity - O(n)\n",
    "        index = 0\n",
    "        \n",
    "        if lengthKnown == True:\n",
    "            # If length l is known, index = l - k + 1\n",
    "            length = self.getLength()\n",
    "            end = length - k + 1\n",
    "            if end < 0:\n",
    "                return None\n",
    "            \n",
    "            ele = self.head\n",
    "            \n",
    "            while ele.next is not None:\n",
    "                index += 1\n",
    "                if index == end:\n",
    "                    return ele.item\n",
    "                ele = ele.next\n",
    "        \n",
    "        else:\n",
    "            # If length is not known,\n",
    "            # two pointers - fast pointer and slow pointer\n",
    "            fast_pointer = self.head\n",
    "            slow_pointer = self.head\n",
    "            fast_index = 0\n",
    "            \n",
    "            # Step 1) Fast pointer moves upto k-1 postion\n",
    "            while fast_pointer.next is not None:\n",
    "                if fast_index == k - 1:\n",
    "                    break\n",
    "                else:\n",
    "                    fast_pointer = fast_pointer.next\n",
    "                    fast_index += 1\n",
    "           \n",
    "            # Step 2) Till fast pointer reaches end, slow pointer moves.\n",
    "            # Once fast pointer reached end, return slow pointer value\n",
    "            while fast_pointer.next is not None:\n",
    "                slow_pointer = slow_pointer.next\n",
    "                fast_pointer = fast_pointer.next\n",
    "                \n",
    "            return slow_pointer.item\n",
    "        \n",
    "    def findMiddle(self):\n",
    "        # Time Complexity - O(n)\n",
    "        if self.head is None:\n",
    "            return None\n",
    "        \n",
    "        # Two pointers - fast pointer and slow pointer\n",
    "        fast_pointer = self.head\n",
    "        slow_pointer = self.head\n",
    "        ele = self.head\n",
    "        \n",
    "        # Fast pointer - moves twice\n",
    "        # Slow pointer - moves once\n",
    "        # Once fast pointer reaches end, slow pointer will reach middle\n",
    "        # Return slow pointer value\n",
    "        while ele.next is not None:\n",
    "            if fast_pointer.next is None:\n",
    "                return slow_pointer.item\n",
    "            \n",
    "            fast_pointer = fast_pointer.next\n",
    "            if fast_pointer.next is None:\n",
    "                return slow_pointer.item\n",
    "            else:\n",
    "                fast_pointer = fast_pointer.next\n",
    "                \n",
    "            slow_pointer = slow_pointer.next\n",
    "            \n",
    "        return ele.item\n",
    "            \n",
    "        \n",
    "    # Cloning\n",
    "    def copy(self):\n",
    "        # Doing deep copy of the list and returns it - O(n)\n",
    "        if self.head is None:\n",
    "            return None\n",
    "        \n",
    "        new_list = LinkedList()\n",
    "        ele = self.head\n",
    "        while ele is not None:\n",
    "            new_list.insert(ListNode(ele.item))\n",
    "            ele = ele.next\n",
    "        \n",
    "        return new_list\n",
    "    \n",
    "    # Loops\n",
    "    def createLoop(self, position):\n",
    "        index = 0\n",
    "        if self.head is None:\n",
    "            return None\n",
    "        \n",
    "        ele = self.head\n",
    "        while ele.next is not None:\n",
    "            if index == position:\n",
    "                new_ele = ele\n",
    "            ele = ele.next\n",
    "            index += 1\n",
    "        ele.next = new_ele\n",
    "   \n",
    "    # Floyd's circle finding algorithm\n",
    "    def detectLoop(self):\n",
    "        # Time Complexity - O(n)\n",
    "        \n",
    "        # Two pointers - fast pointer and slow pointer\n",
    "        slow_pointer = self.head\n",
    "        fast_pointer = self.head.next.next\n",
    "        if self.head is None:\n",
    "            return False\n",
    "        \n",
    "        if slow_pointer.next is None or fast_pointer is None:\n",
    "            return False\n",
    "        \n",
    "        # Fast pointer - moves twice\n",
    "        # Slow pointer - moves once\n",
    "        # if fast pointer meets slow pointer, then loop exists\n",
    "        # if not, then loop doesnt exist\n",
    "        while fast_pointer is not None:\n",
    "            if fast_pointer.item == slow_pointer.item:\n",
    "                return True\n",
    "            if fast_pointer.next is None:\n",
    "                return False\n",
    "            fast_pointer = fast_pointer.next.next\n",
    "            slow_pointer = slow_pointer.next\n",
    "            \n",
    "        return False       \n",
    "        "
   ]
  },
  {
   "cell_type": "code",
   "execution_count": 3,
   "metadata": {
    "ExecuteTime": {
     "end_time": "2020-04-24T19:44:56.527249Z",
     "start_time": "2020-04-24T19:44:56.495319Z"
    }
   },
   "outputs": [
    {
     "name": "stdout",
     "output_type": "stream",
     "text": [
      "Inserted...\n",
      "LinkedList Elements are 2 3 4 5 22  \n",
      "Inserted Front...\n",
      "LinkedList Elements are 1 2 3 4 5 22  \n",
      "Inserted After...\n",
      "LinkedList Elements are 1 2 3 10 4 5 22  \n",
      "Inserted Before...\n",
      "LinkedList Elements are 1 2 3 10 7 4 5 22  \n"
     ]
    }
   ],
   "source": [
    "# Creating the linked list with nodes\n",
    "l_list = LinkedList()\n",
    "\n",
    "l_list.insert(ListNode(2))\n",
    "l_list.insert(ListNode(3))\n",
    "l_list.insert(ListNode(4))\n",
    "l_list.insert(ListNode(5))\n",
    "l_list.insert(ListNode(22))\n",
    "\n",
    "print(\"Inserted...\")\n",
    "l_list.printList()\n",
    "\n",
    "print(\"Inserted Front...\")\n",
    "l_list.insertFront(ListNode(1))\n",
    "l_list.printList()\n",
    "\n",
    "print(\"Inserted After...\")\n",
    "l_list.insertAfter(3, ListNode(10))\n",
    "l_list.printList()\n",
    "\n",
    "print(\"Inserted Before...\")\n",
    "l_list.insertBefore(4, ListNode(7))\n",
    "l_list.printList()"
   ]
  },
  {
   "cell_type": "code",
   "execution_count": 4,
   "metadata": {
    "ExecuteTime": {
     "end_time": "2020-04-24T19:44:56.551042Z",
     "start_time": "2020-04-24T19:44:56.534329Z"
    }
   },
   "outputs": [
    {
     "name": "stdout",
     "output_type": "stream",
     "text": [
      "Element removed\n",
      "LinkedList Elements are 1 2 3 7 4 5 22  \n"
     ]
    }
   ],
   "source": [
    "print(\"Element removed\")\n",
    "l_list.remove(10)\n",
    "l_list.printList()"
   ]
  },
  {
   "cell_type": "code",
   "execution_count": 5,
   "metadata": {
    "ExecuteTime": {
     "end_time": "2020-04-24T19:44:56.569110Z",
     "start_time": "2020-04-24T19:44:56.554688Z"
    }
   },
   "outputs": [
    {
     "name": "stdout",
     "output_type": "stream",
     "text": [
      "Iteration\n",
      "1\n",
      "2\n",
      "3\n",
      "7\n",
      "4\n",
      "5\n",
      "No more iterations left. Returning last value\n",
      "22\n"
     ]
    }
   ],
   "source": [
    "print(\"Iteration\")\n",
    "print(l_list.next())\n",
    "print(l_list.next())\n",
    "print(l_list.next())\n",
    "print(l_list.next())\n",
    "print(l_list.next())\n",
    "print(l_list.next())\n",
    "print(l_list.next())"
   ]
  },
  {
   "cell_type": "code",
   "execution_count": 6,
   "metadata": {
    "ExecuteTime": {
     "end_time": "2020-04-24T19:44:56.593644Z",
     "start_time": "2020-04-24T19:44:56.573331Z"
    }
   },
   "outputs": [
    {
     "name": "stdout",
     "output_type": "stream",
     "text": [
      "Deep-Copy\n",
      "Copied and printing new array\n",
      "LinkedList Elements are 1 2 3 7 4 5 22  \n",
      "Removing 5 from main array\n",
      "Printing main Array\n",
      "LinkedList Elements are 1 2 3 7 4 5 22  \n",
      "Printing copied Array\n",
      "LinkedList Elements are 1 2 3 7 4 22  \n"
     ]
    }
   ],
   "source": [
    "print(\"Deep-Copy\")\n",
    "new_list = l_list.copy()\n",
    "print(\"Copied and printing new array\")\n",
    "new_list.printList()\n",
    "print(\"Removing 5 from main array\")\n",
    "l_list.remove(5)\n",
    "print(\"Printing main Array\")\n",
    "new_list.printList()\n",
    "print(\"Printing copied Array\")\n",
    "l_list.printList()"
   ]
  },
  {
   "cell_type": "code",
   "execution_count": 7,
   "metadata": {
    "ExecuteTime": {
     "end_time": "2020-04-24T19:44:56.615998Z",
     "start_time": "2020-04-24T19:44:56.599092Z"
    }
   },
   "outputs": [
    {
     "name": "stdout",
     "output_type": "stream",
     "text": [
      "Getting kth element from the end - With or Without knowing Length\n",
      "LinkedList Elements are 1 2 3 7 4 22  \n",
      "Getting the 3rd element from end with known length - 7\n",
      "Getting the 3rd element from end without known length - 7\n",
      "Getting the 5th element from end with known length - 2\n",
      "Getting the 5th element from end without known length - 2\n"
     ]
    }
   ],
   "source": [
    "print(\"Getting kth element from the end - With or Without knowing Length\")\n",
    "l_list.printList()\n",
    "print(\"Getting the 3rd element from end with known length - \"+str(l_list.getKthElementFromEnd(3, True)))\n",
    "print(\"Getting the 3rd element from end without known length - \"+str(l_list.getKthElementFromEnd(3, False)))\n",
    "print(\"Getting the 5th element from end with known length - \"+str(l_list.getKthElementFromEnd(5, True)))\n",
    "print(\"Getting the 5th element from end without known length - \"+str(l_list.getKthElementFromEnd(5, False)))"
   ]
  },
  {
   "cell_type": "code",
   "execution_count": 8,
   "metadata": {
    "ExecuteTime": {
     "end_time": "2020-04-24T19:44:56.633811Z",
     "start_time": "2020-04-24T19:44:56.622869Z"
    }
   },
   "outputs": [
    {
     "name": "stdout",
     "output_type": "stream",
     "text": [
      "Finding Middle\n",
      "LinkedList Elements are 1 2 3 7 4 22  \n",
      "Middle element in the list - 3\n",
      "LinkedList Elements are 1 2 3 7 4  \n",
      "Middle element in the list - 3\n"
     ]
    }
   ],
   "source": [
    "print(\"Finding Middle\")\n",
    "l_list.printList()\n",
    "print(\"Middle element in the list - \"+str(l_list.findMiddle()))\n",
    "l_list.remove(22)\n",
    "l_list.printList()\n",
    "print(\"Middle element in the list - \"+str(l_list.findMiddle()))"
   ]
  },
  {
   "cell_type": "code",
   "execution_count": 9,
   "metadata": {
    "ExecuteTime": {
     "end_time": "2020-04-24T19:44:56.651719Z",
     "start_time": "2020-04-24T19:44:56.638392Z"
    }
   },
   "outputs": [
    {
     "name": "stdout",
     "output_type": "stream",
     "text": [
      "Loop Detection\n",
      "Is loop detected? - False\n",
      "Creating Loop\n",
      "Is loop detected? - True\n"
     ]
    }
   ],
   "source": [
    "print(\"Loop Detection\")\n",
    "print(\"Is loop detected? - \"+str(l_list.detectLoop()))\n",
    "print(\"Creating Loop\")\n",
    "l_list.createLoop(3)\n",
    "print(\"Is loop detected? - \"+str(l_list.detectLoop()))"
   ]
  }
 ],
 "metadata": {
  "kernelspec": {
   "display_name": "Python 3",
   "language": "python",
   "name": "python3"
  },
  "language_info": {
   "codemirror_mode": {
    "name": "ipython",
    "version": 3
   },
   "file_extension": ".py",
   "mimetype": "text/x-python",
   "name": "python",
   "nbconvert_exporter": "python",
   "pygments_lexer": "ipython3",
   "version": "3.8.3"
  },
  "varInspector": {
   "cols": {
    "lenName": 16,
    "lenType": 16,
    "lenVar": 40
   },
   "kernels_config": {
    "python": {
     "delete_cmd_postfix": "",
     "delete_cmd_prefix": "del ",
     "library": "var_list.py",
     "varRefreshCmd": "print(var_dic_list())"
    },
    "r": {
     "delete_cmd_postfix": ") ",
     "delete_cmd_prefix": "rm(",
     "library": "var_list.r",
     "varRefreshCmd": "cat(var_dic_list()) "
    }
   },
   "types_to_exclude": [
    "module",
    "function",
    "builtin_function_or_method",
    "instance",
    "_Feature"
   ],
   "window_display": false
  }
 },
 "nbformat": 4,
 "nbformat_minor": 4
}
