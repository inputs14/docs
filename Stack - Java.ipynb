{
 "cells": [
  {
   "cell_type": "markdown",
   "metadata": {},
   "source": [
    "# Stack - using Arrays\n",
    "* Linear data structure.\n",
    "* Implement in an order LIFO - Last in First Out or FILO - Fast In Last Out.\n",
    "* Stacks should have bounded capacity."
   ]
  },
  {
   "cell_type": "markdown",
   "metadata": {},
   "source": [
    "## Applications\n",
    "* Balancing of symbols. Eg: [()()]{[()]}\n",
    "* Reversing Eg: welcome => emoclew\n",
    "* Backtracing Eg: During debugging of an application.\n",
    "* Undo mechanism \n",
    "* Redo mechanism(With Two Stacks)"
   ]
  },
  {
   "cell_type": "code",
   "execution_count": 1,
   "metadata": {},
   "outputs": [],
   "source": [
    "public class Stack {\n",
    "    private int[] items;\n",
    "    private int top;\n",
    "    \n",
    "    public Stack(int length){\n",
    "        items = new int[length];\n",
    "        top = 0;\n",
    "    }\n",
    "    \n",
    "    public boolean isFull(){\n",
    "        if(top == items.length)\n",
    "            return true;\n",
    "        \n",
    "        return false;\n",
    "    }\n",
    "    \n",
    "    public boolean isEmpty(){\n",
    "        if(top == 0)\n",
    "            return true;\n",
    "        \n",
    "        return false;\n",
    "    }\n",
    "    \n",
    "    public void push(int value){\n",
    "        if(isFull()){\n",
    "            System.out.println(\"Stack is Full\");\n",
    "            return;\n",
    "        }\n",
    "            \n",
    "        items[top] = value;\n",
    "        top++;\n",
    "    }\n",
    "    \n",
    "    public int pop(){\n",
    "        if(isEmpty()){\n",
    "            System.out.println(\"Stack is Empty\");\n",
    "            return -1;\n",
    "        }\n",
    "            \n",
    "        \n",
    "        int return_val = items[top-1];\n",
    "        top--;\n",
    "        return return_val;\n",
    "    }\n",
    "    \n",
    "    public int peek(){\n",
    "        if(isEmpty()){\n",
    "            System.out.println(\"Stack is Empty\");\n",
    "            return -1;\n",
    "        }\n",
    "            \n",
    "        \n",
    "        int return_val = items[top-1];\n",
    "        return return_val;\n",
    "    }\n",
    "}"
   ]
  },
  {
   "cell_type": "code",
   "execution_count": 2,
   "metadata": {},
   "outputs": [
    {
     "name": "stdout",
     "output_type": "stream",
     "text": [
      "Stack Peek - 20\n",
      "Stack Peek - 30\n",
      "Stack Peek - 40\n",
      "Stack Peek - 50\n",
      "Stack Peek - 60\n",
      "Stack is Full\n",
      "Stack Popped out - 60\n",
      "Stack Popped out - 50\n",
      "Stack Peek - 40\n",
      "Stack Popped out - 40\n",
      "Stack Popped out - 30\n",
      "Stack Popped out - 20\n",
      "Stack is Empty\n",
      "Stack Popped out - -1\n"
     ]
    }
   ],
   "source": [
    "Stack stack = new Stack(5);\n",
    "stack.push(20);\n",
    "System.out.println(\"Stack Peek - \"+stack.peek());\n",
    "stack.push(30);\n",
    "System.out.println(\"Stack Peek - \"+stack.peek());\n",
    "stack.push(40);\n",
    "System.out.println(\"Stack Peek - \"+stack.peek());\n",
    "stack.push(50);\n",
    "System.out.println(\"Stack Peek - \"+stack.peek());\n",
    "stack.push(60);\n",
    "System.out.println(\"Stack Peek - \"+stack.peek());\n",
    "stack.push(70);\n",
    "System.out.println(\"Stack Popped out - \"+stack.pop());\n",
    "System.out.println(\"Stack Popped out - \"+stack.pop());\n",
    "System.out.println(\"Stack Peek - \"+stack.peek());\n",
    "System.out.println(\"Stack Popped out - \"+stack.pop());\n",
    "System.out.println(\"Stack Popped out - \"+stack.pop());\n",
    "System.out.println(\"Stack Popped out - \"+stack.pop());\n",
    "System.out.println(\"Stack Popped out - \"+stack.pop());"
   ]
  }
 ],
 "metadata": {
  "kernelspec": {
   "display_name": "Java",
   "language": "java",
   "name": "java"
  },
  "language_info": {
   "codemirror_mode": "java",
   "file_extension": ".jshell",
   "mimetype": "text/x-java-source",
   "name": "Java",
   "pygments_lexer": "java",
   "version": "11.0.7+8-LTS"
  }
 },
 "nbformat": 4,
 "nbformat_minor": 4
}
